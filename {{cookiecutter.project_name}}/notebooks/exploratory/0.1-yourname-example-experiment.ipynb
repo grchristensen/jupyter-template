{
 "cells": [
  {
   "cell_type": "markdown",
   "id": "7aa96ad4-238b-4496-a582-7f87e87e2671",
   "metadata": {},
   "source": [
    "# Example Experiment\n",
    "\n",
    "Do some experiments with the data, then report your findings in `notebooks/reports`. Commit notebooks after restarting and running cells in order (but clear the outputs of cells that have output like tqdm)."
   ]
  },
  {
   "cell_type": "code",
   "execution_count": 1,
   "id": "be620fb3-0b25-43a3-bc29-3d4a6b378feb",
   "metadata": {},
   "outputs": [
    {
     "name": "stdout",
     "output_type": "stream",
     "text": [
      "Hello, world!\n"
     ]
    }
   ],
   "source": [
    "print(\"Hello, world!\")"
   ]
  }
 ],
 "metadata": {
  "kernelspec": {
   "display_name": "Python 3 (ipykernel)",
   "language": "python",
   "name": "python3"
  },
  "language_info": {
   "codemirror_mode": {
    "name": "ipython",
    "version": 3
   },
   "file_extension": ".py",
   "mimetype": "text/x-python",
   "name": "python",
   "nbconvert_exporter": "python",
   "pygments_lexer": "ipython3",
   "version": "3.9.7"
  }
 },
 "nbformat": 4,
 "nbformat_minor": 5
}
