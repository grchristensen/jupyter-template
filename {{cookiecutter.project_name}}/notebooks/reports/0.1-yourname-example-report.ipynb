{
 "cells": [
  {
   "cell_type": "markdown",
   "id": "4b82e6a8-6082-424b-9691-6960da94a18f",
   "metadata": {},
   "source": [
    "# Example Report\n",
    "\n",
    "Report on your findings here. Make sure to use visualization and other communication tools to get your points across clearly to other team members."
   ]
  },
  {
   "cell_type": "code",
   "execution_count": 1,
   "id": "2f9a7f5b-76a4-4643-9299-931529ec63be",
   "metadata": {},
   "outputs": [
    {
     "name": "stdout",
     "output_type": "stream",
     "text": [
      "Hello, world!\n"
     ]
    }
   ],
   "source": [
    "# Document your code!\n",
    "print(\"Hello, world!\")"
   ]
  }
 ],
 "metadata": {
  "kernelspec": {
   "display_name": "Python 3 (ipykernel)",
   "language": "python",
   "name": "python3"
  },
  "language_info": {
   "codemirror_mode": {
    "name": "ipython",
    "version": 3
   },
   "file_extension": ".py",
   "mimetype": "text/x-python",
   "name": "python",
   "nbconvert_exporter": "python",
   "pygments_lexer": "ipython3",
   "version": "3.9.7"
  }
 },
 "nbformat": 4,
 "nbformat_minor": 5
}
